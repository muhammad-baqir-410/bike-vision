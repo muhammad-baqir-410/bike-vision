{
 "cells": [
  {
   "cell_type": "code",
   "execution_count": 3,
   "metadata": {},
   "outputs": [
    {
     "name": "stdout",
     "output_type": "stream",
     "text": [
      "OK\n"
     ]
    }
   ],
   "source": [
    "lat, lon = 0, 1\n",
    "if lat or lon:\n",
    "    print(\"OK\")"
   ]
  },
  {
   "cell_type": "code",
   "execution_count": 1,
   "metadata": {},
   "outputs": [
    {
     "name": "stdout",
     "output_type": "stream",
     "text": [
      "Internet connection is available.\n"
     ]
    }
   ],
   "source": [
    "import requests\n",
    "\n",
    "def is_internet_connected(hostname=\"www.google.com\"):\n",
    "    \"\"\"\n",
    "    Checks for internet availability by attempting to reach a reliable host.\n",
    "\n",
    "    Args:\n",
    "        hostname: The hostname to check (default is www.google.com)\n",
    "\n",
    "    Returns:\n",
    "        True if internet is connected, False otherwise.\n",
    "    \"\"\"\n",
    "    try:\n",
    "        # Try to send a request to the specified hostname\n",
    "        requests.get(\"http://\" + hostname, timeout=5)\n",
    "        return True\n",
    "    except (requests.ConnectionError, requests.Timeout) as exception:\n",
    "        return False\n",
    "\n",
    "# Example usage\n",
    "if is_internet_connected():\n",
    "    print(\"Internet connection is available.\")\n",
    "else:\n",
    "    print(\"No internet connection.\")\n"
   ]
  },
  {
   "cell_type": "code",
   "execution_count": 2,
   "metadata": {},
   "outputs": [
    {
     "name": "stdout",
     "output_type": "stream",
     "text": [
      "Data saved successfully to data.json\n"
     ]
    }
   ],
   "source": [
    "import json\n",
    "\n",
    "def save_json_data(data, filename):\n",
    "  \"\"\"\n",
    "  Saves JSON-dumped data to a file.\n",
    "\n",
    "  Args:\n",
    "      data: The data to save (any JSON-serializable object).\n",
    "      filename: The name of the file to save to.\n",
    "  \"\"\"\n",
    "  try:\n",
    "    with open(filename, 'w') as f:\n",
    "      json.dump(data, f, indent=4)\n",
    "    print(f\"Data saved successfully to {filename}\")\n",
    "  except Exception as e:\n",
    "    print(f\"Error saving data: {e}\")\n",
    "\n",
    "# Example usage\n",
    "data = {\"name\": \"John Doe\", \"age\": 30, \"city\": \"New York\"}\n",
    "save_json_data(data, \"data.json\")\n"
   ]
  },
  {
   "cell_type": "code",
   "execution_count": 5,
   "metadata": {},
   "outputs": [],
   "source": [
    "import asyncio\n",
    "\n",
    "async def async_function(name, delay):\n",
    "    print(f\"Task {name} started\")\n",
    "    await asyncio.sleep(delay)  # Simulate an async operation\n",
    "    print(f\"Task {name} finished after {delay} seconds\")\n",
    "\n",
    "async def main():\n",
    "    tasks = []  # Optional: Keep track of tasks to avoid accumulating too many.\n",
    "    i = 0\n",
    "    while True:\n",
    "        # Schedule the async function without awaiting it\n",
    "        task = asyncio.create_task(async_function(f\"Task-{i}\", 2))\n",
    "        tasks.append(task)\n",
    "\n",
    "        # Your while loop can continue doing other work here\n",
    "        print(f\"Loop iteration {i}, task scheduled.\")\n",
    "        await asyncio.sleep(1)  # Simulate other async operations or a simple delay\n",
    "\n",
    "        # Optional: Check for completed tasks and remove them from the list\n",
    "        completed_tasks = [t for t in tasks if t.done()]\n",
    "        for t in completed_tasks:\n",
    "            tasks.remove(t)\n",
    "            # Here you could also handle results with t.result() or exceptions\n",
    "\n",
    "        i += 1\n",
    "        if i >= 5:  # Just an example to break out of the loop eventually\n",
    "            break\n",
    "\n",
    "    # Wait for all scheduled tasks to complete before exiting\n",
    "    await asyncio.gather(*tasks)\n",
    "\n",
    "\n"
   ]
  },
  {
   "cell_type": "code",
   "execution_count": 6,
   "metadata": {},
   "outputs": [
    {
     "name": "stderr",
     "output_type": "stream",
     "text": [
      "/home/athenaai/anaconda3/envs/dai/lib/python3.9/re.py:294: RuntimeWarning: coroutine 'main' was never awaited\n",
      "  return _cache[type(pattern), pattern, flags]\n",
      "RuntimeWarning: Enable tracemalloc to get the object allocation traceback\n"
     ]
    },
    {
     "ename": "RuntimeError",
     "evalue": "asyncio.run() cannot be called from a running event loop",
     "output_type": "error",
     "traceback": [
      "\u001b[0;31m---------------------------------------------------------------------------\u001b[0m",
      "\u001b[0;31mRuntimeError\u001b[0m                              Traceback (most recent call last)",
      "Cell \u001b[0;32mIn[6], line 1\u001b[0m\n\u001b[0;32m----> 1\u001b[0m \u001b[43masyncio\u001b[49m\u001b[38;5;241;43m.\u001b[39;49m\u001b[43mrun\u001b[49m\u001b[43m(\u001b[49m\u001b[43mmain\u001b[49m\u001b[43m(\u001b[49m\u001b[43m)\u001b[49m\u001b[43m)\u001b[49m\n",
      "File \u001b[0;32m~/anaconda3/envs/dai/lib/python3.9/asyncio/runners.py:33\u001b[0m, in \u001b[0;36mrun\u001b[0;34m(main, debug)\u001b[0m\n\u001b[1;32m      9\u001b[0m \u001b[38;5;250m\u001b[39m\u001b[38;5;124;03m\"\"\"Execute the coroutine and return the result.\u001b[39;00m\n\u001b[1;32m     10\u001b[0m \n\u001b[1;32m     11\u001b[0m \u001b[38;5;124;03mThis function runs the passed coroutine, taking care of\u001b[39;00m\n\u001b[0;32m   (...)\u001b[0m\n\u001b[1;32m     30\u001b[0m \u001b[38;5;124;03m    asyncio.run(main())\u001b[39;00m\n\u001b[1;32m     31\u001b[0m \u001b[38;5;124;03m\"\"\"\u001b[39;00m\n\u001b[1;32m     32\u001b[0m \u001b[38;5;28;01mif\u001b[39;00m events\u001b[38;5;241m.\u001b[39m_get_running_loop() \u001b[38;5;129;01mis\u001b[39;00m \u001b[38;5;129;01mnot\u001b[39;00m \u001b[38;5;28;01mNone\u001b[39;00m:\n\u001b[0;32m---> 33\u001b[0m     \u001b[38;5;28;01mraise\u001b[39;00m \u001b[38;5;167;01mRuntimeError\u001b[39;00m(\n\u001b[1;32m     34\u001b[0m         \u001b[38;5;124m\"\u001b[39m\u001b[38;5;124masyncio.run() cannot be called from a running event loop\u001b[39m\u001b[38;5;124m\"\u001b[39m)\n\u001b[1;32m     36\u001b[0m \u001b[38;5;28;01mif\u001b[39;00m \u001b[38;5;129;01mnot\u001b[39;00m coroutines\u001b[38;5;241m.\u001b[39miscoroutine(main):\n\u001b[1;32m     37\u001b[0m     \u001b[38;5;28;01mraise\u001b[39;00m \u001b[38;5;167;01mValueError\u001b[39;00m(\u001b[38;5;124m\"\u001b[39m\u001b[38;5;124ma coroutine was expected, got \u001b[39m\u001b[38;5;132;01m{!r}\u001b[39;00m\u001b[38;5;124m\"\u001b[39m\u001b[38;5;241m.\u001b[39mformat(main))\n",
      "\u001b[0;31mRuntimeError\u001b[0m: asyncio.run() cannot be called from a running event loop"
     ]
    }
   ],
   "source": [
    "asyncio.run(main())"
   ]
  }
 ],
 "metadata": {
  "kernelspec": {
   "display_name": "dai",
   "language": "python",
   "name": "python3"
  },
  "language_info": {
   "codemirror_mode": {
    "name": "ipython",
    "version": 3
   },
   "file_extension": ".py",
   "mimetype": "text/x-python",
   "name": "python",
   "nbconvert_exporter": "python",
   "pygments_lexer": "ipython3",
   "version": "3.9.18"
  }
 },
 "nbformat": 4,
 "nbformat_minor": 2
}
